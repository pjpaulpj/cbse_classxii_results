{
 "cells": [
  {
   "cell_type": "code",
   "execution_count": 1,
   "metadata": {
    "collapsed": true
   },
   "outputs": [],
   "source": [
    "%matplotlib inline\n",
    "\n",
    "import pandas as pd\n",
    "import numpy as np\n",
    "import matplotlib.pyplot as plt\n",
    "import seaborn as sns"
   ]
  },
  {
   "cell_type": "code",
   "execution_count": 2,
   "metadata": {
    "collapsed": true
   },
   "outputs": [],
   "source": [
    "df = pd.read_csv('results_2015.csv')"
   ]
  },
  {
   "cell_type": "code",
   "execution_count": 3,
   "metadata": {
    "collapsed": false
   },
   "outputs": [
    {
     "data": {
      "text/plain": [
       "68.651346024781887"
      ]
     },
     "execution_count": 3,
     "metadata": {},
     "output_type": "execute_result"
    }
   ],
   "source": [
    "df.top_5_avg.mean()"
   ]
  },
  {
   "cell_type": "code",
   "execution_count": 4,
   "metadata": {
    "collapsed": false
   },
   "outputs": [
    {
     "data": {
      "text/plain": [
       "region\n",
       "Ajmer                 71.749826\n",
       "Calcutta/Cuttack      74.635391\n",
       "Chennai/Trivandrum    81.903683\n",
       "Dehradun/Allahabad    64.689822\n",
       "Delhi                 65.715727\n",
       "Guwahati              47.366765\n",
       "Panchkula             69.247024\n",
       "Patna                 64.540933\n",
       "Name: top_5_avg, dtype: float64"
      ]
     },
     "execution_count": 4,
     "metadata": {},
     "output_type": "execute_result"
    }
   ],
   "source": [
    "df.groupby('region').top_5_avg.mean()"
   ]
  },
  {
   "cell_type": "code",
   "execution_count": 5,
   "metadata": {
    "collapsed": false
   },
   "outputs": [],
   "source": [
    "df['is_pass'] = df['fin_result'] == 'PASS'"
   ]
  },
  {
   "cell_type": "code",
   "execution_count": 6,
   "metadata": {
    "collapsed": false
   },
   "outputs": [
    {
     "data": {
      "text/plain": [
       "region\n",
       "Ajmer                 0.878388\n",
       "Calcutta/Cuttack      0.802756\n",
       "Chennai/Trivandrum    0.973380\n",
       "Dehradun/Allahabad    0.732497\n",
       "Delhi                 0.824826\n",
       "Guwahati              0.505108\n",
       "Panchkula             0.810249\n",
       "Patna                 0.564636\n",
       "Name: is_pass, dtype: float64"
      ]
     },
     "execution_count": 6,
     "metadata": {},
     "output_type": "execute_result"
    }
   ],
   "source": [
    "df.groupby('region').is_pass.mean()"
   ]
  },
  {
   "cell_type": "code",
   "execution_count": 7,
   "metadata": {
    "collapsed": false
   },
   "outputs": [
    {
     "data": {
      "text/plain": [
       "Dehradun/Allahabad    14755\n",
       "Panchkula             12353\n",
       "Delhi                 12205\n",
       "Chennai/Trivandrum    10631\n",
       "Ajmer                  8116\n",
       "Guwahati               4209\n",
       "Calcutta/Cuttack       2758\n",
       "Patna                  2692\n",
       "dtype: int64"
      ]
     },
     "execution_count": 7,
     "metadata": {},
     "output_type": "execute_result"
    }
   ],
   "source": [
    "df.region.value_counts()"
   ]
  },
  {
   "cell_type": "code",
   "execution_count": 8,
   "metadata": {
    "collapsed": false
   },
   "outputs": [
    {
     "data": {
      "text/plain": [
       "region\n",
       "Ajmer                 62.665830\n",
       "Calcutta/Cuttack      57.806888\n",
       "Chennai/Trivandrum    73.453807\n",
       "Dehradun/Allahabad    50.899782\n",
       "Delhi                 60.412803\n",
       "Guwahati              33.779097\n",
       "Panchkula             52.208259\n",
       "Patna                 47.619578\n",
       "Name: MATHEMATICS_total, dtype: float64"
      ]
     },
     "execution_count": 8,
     "metadata": {},
     "output_type": "execute_result"
    }
   ],
   "source": [
    "df.groupby('region').MATHEMATICS_total.mean()"
   ]
  },
  {
   "cell_type": "code",
   "execution_count": 9,
   "metadata": {
    "collapsed": false
   },
   "outputs": [
    {
     "data": {
      "text/plain": [
       "Ajmer                 0.540168\n",
       "Calcutta/Cuttack      0.831762\n",
       "Chennai/Trivandrum    0.810460\n",
       "Dehradun/Allahabad    0.527482\n",
       "Delhi                 0.362229\n",
       "Guwahati              0.100024\n",
       "Panchkula             0.450903\n",
       "Patna                 0.633730\n",
       "dtype: float64"
      ]
     },
     "execution_count": 9,
     "metadata": {},
     "output_type": "execute_result"
    }
   ],
   "source": [
    "df.groupby('region').MATHEMATICS_total.count()/df.region.value_counts()"
   ]
  },
  {
   "cell_type": "code",
   "execution_count": 10,
   "metadata": {
    "collapsed": false
   },
   "outputs": [],
   "source": [
    "surname = df.groupby('last_name')['top_5_avg'].agg(['mean', 'count'])"
   ]
  },
  {
   "cell_type": "code",
   "execution_count": 11,
   "metadata": {
    "collapsed": false
   },
   "outputs": [],
   "source": [
    "firstname = df.groupby('first_name')['top_5_avg'].agg(['mean', 'count'])"
   ]
  },
  {
   "cell_type": "code",
   "execution_count": 12,
   "metadata": {
    "collapsed": false
   },
   "outputs": [
    {
     "data": {
      "text/plain": [
       "9970"
      ]
     },
     "execution_count": 12,
     "metadata": {},
     "output_type": "execute_result"
    }
   ],
   "source": [
    "len(surname)"
   ]
  },
  {
   "cell_type": "code",
   "execution_count": 13,
   "metadata": {
    "collapsed": false
   },
   "outputs": [
    {
     "data": {
      "text/plain": [
       "14147"
      ]
     },
     "execution_count": 13,
     "metadata": {},
     "output_type": "execute_result"
    }
   ],
   "source": [
    "len(firstname)"
   ]
  },
  {
   "cell_type": "code",
   "execution_count": 14,
   "metadata": {
    "collapsed": false
   },
   "outputs": [
    {
     "data": {
      "text/plain": [
       "67719"
      ]
     },
     "execution_count": 14,
     "metadata": {},
     "output_type": "execute_result"
    }
   ],
   "source": [
    "len(df)"
   ]
  },
  {
   "cell_type": "code",
   "execution_count": 15,
   "metadata": {
    "collapsed": true
   },
   "outputs": [],
   "source": [
    "subjects = ['ACCOUNTANCY_total', 'BIOLOGY_total', 'BIOTECHNOLOGY_total', 'BUSINESS STUDIES_total',\n",
    "            'CHEMISTRY_total', 'COMPUTER SCIENCE_total', 'ECONOMICS_total', 'ENGLISH CORE_total', 'GEOGRAPHY_total',\n",
    "            'HINDI CORE_total', 'HISTORY_total', 'MARKETING_total', 'MATHEMATICS_total',\n",
    "            'PAINTING_total', 'PHYSICAL EDUCATION_total', 'PHYSICS_total', 'POLITICAL SCIENCE_total', 'PSYCHOLOGY_total',\n",
    "            'PUNJABI_total', 'SANSKRIT CORE_total', 'SOCIOLOGY_total', 'TAMIL_total']"
   ]
  },
  {
   "cell_type": "code",
   "execution_count": 16,
   "metadata": {
    "collapsed": false
   },
   "outputs": [
    {
     "data": {
      "text/plain": [
       "ACCOUNTANCY_total           19276\n",
       "BIOLOGY_total               11574\n",
       "BIOTECHNOLOGY_total           328\n",
       "BUSINESS STUDIES_total      19366\n",
       "CHEMISTRY_total             34861\n",
       "COMPUTER SCIENCE_total      10643\n",
       "ECONOMICS_total             24704\n",
       "ENGLISH CORE_total          60516\n",
       "GEOGRAPHY_total              5619\n",
       "HINDI CORE_total             7822\n",
       "HISTORY_total                8635\n",
       "MARKETING_total               522\n",
       "MATHEMATICS_total           35195\n",
       "PAINTING_total               2776\n",
       "PHYSICAL EDUCATION_total    30847\n",
       "PHYSICS_total               35036\n",
       "POLITICAL SCIENCE_total      9237\n",
       "PSYCHOLOGY_total              846\n",
       "PUNJABI_total                 956\n",
       "SANSKRIT CORE_total          1051\n",
       "SOCIOLOGY_total              1284\n",
       "TAMIL_total                   124\n",
       "dtype: int64"
      ]
     },
     "execution_count": 16,
     "metadata": {},
     "output_type": "execute_result"
    }
   ],
   "source": [
    "df[subjects].count()"
   ]
  },
  {
   "cell_type": "code",
   "execution_count": 21,
   "metadata": {
    "collapsed": false
   },
   "outputs": [
    {
     "data": {
      "text/plain": [
       "took_math          0.519721\n",
       "took_english       0.893634\n",
       "pcm                0.414832\n",
       "pcb                0.169495\n",
       "pcmb               0.073539\n",
       "science_student    0.510787\n",
       "dtype: float64"
      ]
     },
     "execution_count": 21,
     "metadata": {},
     "output_type": "execute_result"
    }
   ],
   "source": [
    "df['took_math'] = df.apply(lambda row: pd.notnull(row['MATHEMATICS_total']), axis=1)\n",
    "df['took_english'] = df.apply(lambda row: pd.notnull(row['ENGLISH CORE_total']), axis=1)\n",
    "df['pcm'] = df.apply(lambda row: pd.notnull(row['MATHEMATICS_total']) * pd.notnull(row['PHYSICS_total']) * pd.notnull(row['CHEMISTRY_total']), axis=1)\n",
    "df['pcb'] = df.apply(lambda row: pd.notnull(row['BIOLOGY_total']) * pd.notnull(row['PHYSICS_total']) * pd.notnull(row['CHEMISTRY_total']), axis=1)\n",
    "df['pcmb'] = df.apply(lambda row: pd.notnull(row['BIOLOGY_total']) * pd.notnull(row['PHYSICS_total']) * pd.notnull(row['CHEMISTRY_total']) * pd.notnull(row['MATHEMATICS_total']), axis=1)\n",
    "df['science_student'] = df['pcm'] + df['pcb']\n",
    "df['science_student'] = df['science_student'].apply(bool)\n",
    "df[['took_math', 'took_english', 'pcm', 'pcb', 'pcmb', 'science_student']].mean()"
   ]
  },
  {
   "cell_type": "code",
   "execution_count": 22,
   "metadata": {
    "collapsed": false
   },
   "outputs": [
    {
     "data": {
      "text/plain": [
       "pcmb\n",
       "0       67.913987\n",
       "1       77.768243\n",
       "Name: top_5_avg, dtype: float64"
      ]
     },
     "execution_count": 22,
     "metadata": {},
     "output_type": "execute_result"
    }
   ],
   "source": [
    "df.groupby('pcmb').top_5_avg.mean()"
   ]
  },
  {
   "cell_type": "code",
   "execution_count": 23,
   "metadata": {
    "collapsed": false
   },
   "outputs": [
    {
     "data": {
      "text/plain": [
       "science_student\n",
       "False              63.237851\n",
       "True               73.653860\n",
       "Name: top_5_avg, dtype: float64"
      ]
     },
     "execution_count": 23,
     "metadata": {},
     "output_type": "execute_result"
    }
   ],
   "source": [
    "df.groupby('science_student').top_5_avg.mean()"
   ]
  },
  {
   "cell_type": "code",
   "execution_count": 24,
   "metadata": {
    "collapsed": false
   },
   "outputs": [
    {
     "data": {
      "text/plain": [
       "took_math\n",
       "False        63.074229\n",
       "True         73.620598\n",
       "Name: top_5_avg, dtype: float64"
      ]
     },
     "execution_count": 24,
     "metadata": {},
     "output_type": "execute_result"
    }
   ],
   "source": [
    "df.groupby('took_math').top_5_avg.mean()"
   ]
  },
  {
   "cell_type": "code",
   "execution_count": 25,
   "metadata": {
    "collapsed": false
   },
   "outputs": [
    {
     "data": {
      "text/plain": [
       "pcm\n",
       "0      64.874059\n",
       "1      73.822996\n",
       "Name: top_5_avg, dtype: float64"
      ]
     },
     "execution_count": 25,
     "metadata": {},
     "output_type": "execute_result"
    }
   ],
   "source": [
    "df.groupby('pcm').top_5_avg.mean()"
   ]
  },
  {
   "cell_type": "code",
   "execution_count": 26,
   "metadata": {
    "collapsed": false
   },
   "outputs": [
    {
     "data": {
      "text/plain": [
       "region\n",
       "Ajmer                 0.649088\n",
       "Calcutta/Cuttack      0.801305\n",
       "Chennai/Trivandrum    0.675571\n",
       "Dehradun/Allahabad    0.600746\n",
       "Delhi                 0.236542\n",
       "Guwahati              0.107389\n",
       "Panchkula             0.458431\n",
       "Patna                 0.766716\n",
       "Name: science_student, dtype: float64"
      ]
     },
     "execution_count": 26,
     "metadata": {},
     "output_type": "execute_result"
    }
   ],
   "source": [
    "df.groupby('region').science_student.mean()"
   ]
  },
  {
   "cell_type": "code",
   "execution_count": 27,
   "metadata": {
    "collapsed": false
   },
   "outputs": [
    {
     "data": {
      "text/plain": [
       "0.43656716417910446"
      ]
     },
     "execution_count": 27,
     "metadata": {},
     "output_type": "execute_result"
    }
   ],
   "source": [
    "df[df.last_name == 'KHAN'].science_student.mean()"
   ]
  },
  {
   "cell_type": "code",
   "execution_count": 28,
   "metadata": {
    "collapsed": false
   },
   "outputs": [
    {
     "data": {
      "text/plain": [
       "0.34701492537313433"
      ]
     },
     "execution_count": 28,
     "metadata": {},
     "output_type": "execute_result"
    }
   ],
   "source": [
    "df[df.last_name == 'KHAN'].took_math.mean()"
   ]
  },
  {
   "cell_type": "code",
   "execution_count": 29,
   "metadata": {
    "collapsed": false
   },
   "outputs": [
    {
     "data": {
      "text/plain": [
       "0.47115384615384615"
      ]
     },
     "execution_count": 29,
     "metadata": {},
     "output_type": "execute_result"
    }
   ],
   "source": [
    "df[df.last_name == 'ALI'].science_student.mean()"
   ]
  },
  {
   "cell_type": "code",
   "execution_count": 30,
   "metadata": {
    "collapsed": false
   },
   "outputs": [
    {
     "data": {
      "text/plain": [
       "0.34615384615384615"
      ]
     },
     "execution_count": 30,
     "metadata": {},
     "output_type": "execute_result"
    }
   ],
   "source": [
    "df[df.last_name == 'ALI'].took_math.mean()"
   ]
  },
  {
   "cell_type": "code",
   "execution_count": 49,
   "metadata": {
    "collapsed": false
   },
   "outputs": [
    {
     "data": {
      "text/plain": [
       "0.51014957264957261"
      ]
     },
     "execution_count": 49,
     "metadata": {},
     "output_type": "execute_result"
    }
   ],
   "source": [
    "df[df.last_name == 'SHARMA'].science_student.mean()"
   ]
  },
  {
   "cell_type": "code",
   "execution_count": 50,
   "metadata": {
    "collapsed": false
   },
   "outputs": [
    {
     "data": {
      "text/plain": [
       "0.50480769230769229"
      ]
     },
     "execution_count": 50,
     "metadata": {},
     "output_type": "execute_result"
    }
   ],
   "source": [
    "df[df.last_name == 'SHARMA'].took_math.mean()"
   ]
  },
  {
   "cell_type": "code",
   "execution_count": 33,
   "metadata": {
    "collapsed": false
   },
   "outputs": [
    {
     "data": {
      "text/plain": [
       "0.5708390646492435"
      ]
     },
     "execution_count": 33,
     "metadata": {},
     "output_type": "execute_result"
    }
   ],
   "source": [
    "df[df.last_name == 'YADAV'].science_student.mean()"
   ]
  },
  {
   "cell_type": "code",
   "execution_count": 34,
   "metadata": {
    "collapsed": false
   },
   "outputs": [
    {
     "data": {
      "text/plain": [
       "0.54332874828060518"
      ]
     },
     "execution_count": 34,
     "metadata": {},
     "output_type": "execute_result"
    }
   ],
   "source": [
    "df[df.last_name == 'YADAV'].took_math.mean()"
   ]
  },
  {
   "cell_type": "code",
   "execution_count": 35,
   "metadata": {
    "collapsed": false
   },
   "outputs": [
    {
     "data": {
      "text/plain": [
       "0.54383651944627553"
      ]
     },
     "execution_count": 35,
     "metadata": {},
     "output_type": "execute_result"
    }
   ],
   "source": [
    "df[df.last_name == 'KUMAR'].science_student.mean()"
   ]
  },
  {
   "cell_type": "code",
   "execution_count": 36,
   "metadata": {
    "collapsed": false
   },
   "outputs": [
    {
     "data": {
      "text/plain": [
       "0.55833882663150958"
      ]
     },
     "execution_count": 36,
     "metadata": {},
     "output_type": "execute_result"
    }
   ],
   "source": [
    "df[df.last_name == 'KUMAR'].took_math.mean()"
   ]
  },
  {
   "cell_type": "code",
   "execution_count": 37,
   "metadata": {
    "collapsed": false
   },
   "outputs": [
    {
     "data": {
      "text/plain": [
       "<matplotlib.axes._subplots.AxesSubplot at 0x17f36908>"
      ]
     },
     "execution_count": 37,
     "metadata": {},
     "output_type": "execute_result"
    },
    {
     "data": {
      "image/png": "[encoded data removed]",
      "text/plain": [
       "<matplotlib.figure.Figure at 0x18b69cf8>"
      ]
     },
     "metadata": {},
     "output_type": "display_data"
    }
   ],
   "source": [
    "sns.boxplot(x='region', y = 'top_5_avg', data=df)"
   ]
  },
  {
   "cell_type": "code",
   "execution_count": 38,
   "metadata": {
    "collapsed": false
   },
   "outputs": [
    {
     "data": {
      "text/plain": [
       "<matplotlib.axes._subplots.AxesSubplot at 0x216a0978>"
      ]
     },
     "execution_count": 38,
     "metadata": {},
     "output_type": "execute_result"
    },
    {
     "data": {
      "image/png": "[encoded data removed]",
      "text/plain": [
       "<matplotlib.figure.Figure at 0x4fb036d8>"
      ]
     },
     "metadata": {},
     "output_type": "display_data"
    }
   ],
   "source": [
    "sns.boxplot(x='science_student', y = 'top_5_avg', data=df)"
   ]
  },
  {
   "cell_type": "code",
   "execution_count": 46,
   "metadata": {
    "collapsed": false
   },
   "outputs": [
    {
     "data": {
      "text/plain": [
       "<matplotlib.axes._subplots.AxesSubplot at 0x2412ae10>"
      ]
     },
     "execution_count": 46,
     "metadata": {},
     "output_type": "execute_result"
    },
    {
     "data": {
      "image/png": "[encoded data removed]",
      "text/plain": [
       "<matplotlib.figure.Figure at 0x271ca0f0>"
      ]
     },
     "metadata": {},
     "output_type": "display_data"
    }
   ],
   "source": [
    "sns.heatmap(df[['ENGLISH CORE_total', 'CHEMISTRY_total', 'BIOLOGY_total', 'MATHEMATICS_total', 'PHYSICS_total']].corr())"
   ]
  },
  {
   "cell_type": "code",
   "execution_count": null,
   "metadata": {
    "collapsed": true
   },
   "outputs": [],
   "source": []
  }
 ],
 "metadata": {
  "kernelspec": {
   "display_name": "Python 2",
   "language": "python",
   "name": "python2"
  },
  "language_info": {
   "codemirror_mode": {
    "name": "ipython",
    "version": 2
   },
   "file_extension": ".py",
   "mimetype": "text/x-python",
   "name": "python",
   "nbconvert_exporter": "python",
   "pygments_lexer": "ipython2",
   "version": "2.7.9"
  }
 },
 "nbformat": 4,
 "nbformat_minor": 0
}
